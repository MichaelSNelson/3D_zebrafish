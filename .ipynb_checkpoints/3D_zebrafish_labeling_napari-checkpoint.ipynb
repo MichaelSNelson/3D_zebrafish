{
 "cells": [
  {
   "cell_type": "code",
   "execution_count": 9,
   "id": "30ba8ad8",
   "metadata": {},
   "outputs": [],
   "source": [
    "import napari\n",
    "import os\n",
    "import glob\n",
    "\n",
    "from pathlib import Path\n",
    "from tifffile import imread\n",
    "%gui qt\n",
    "\n",
    "import pandas as pd\n",
    "import numpy as np"
   ]
  },
  {
   "cell_type": "markdown",
   "id": "c199d34f",
   "metadata": {},
   "source": [
    "## Make sure to adjust input (3D downsampled image files) and output (output CSV files)"
   ]
  },
  {
   "cell_type": "code",
   "execution_count": 2,
   "id": "224c40be",
   "metadata": {},
   "outputs": [],
   "source": [
    "\n",
    "input = 'G:/downsampled_inputs/'\n",
    "output = 'G:/csv_output/'\n",
    "Path(output).mkdir(exist_ok = True)\n",
    "fileList = glob.glob(os.path.join(input, '*TIF'))\n",
    "\n",
    "#convert to loop\n",
    "for fname in fileList:\n",
    "    image = imread(fname)\n",
    "    imageName = os.path.basename(os.path.splitext(fname)[0])\n",
    "    #open the image in a napari viewer\n",
    "    viewer = napari.view_image(image, name= imageName, rgb=False)\n",
    "    #ensure the viewer is in 3D mode\n",
    "    viewer.dims.ndisplay = 3\n",
    "    #add the desired label categories along with point sizes,colors, shapes\n",
    "    viewer.add_points(None, ndim=3, size=2, name=\"head\", face_color=\"red\", edge_color=\"white\", symbol = \"diamond\")\n",
    "    viewer.add_points(None, ndim=3, size=2, name=\"eyes\", face_color=\"cyan\", edge_color=\"white\", symbol = \"cross\")\n",
    "    viewer.add_points(None, ndim=3, size=2, name=\"tail\", face_color=\"green\", edge_color=\"white\", symbol = \"diamond\")\n",
    "    viewer.add_points(None, ndim=3, size=2, name=\"spine\", face_color=\"gray\", edge_color=\"white\", symbol = \"circle\")\n",
    "    #ensure the layers start in \"add new points\" mode when first selected\n",
    "    viewer.layers[\"head\"].mode = 'add'\n",
    "    viewer.layers[\"eyes\"].mode = 'add'\n",
    "    viewer.layers[\"spine\"].mode = 'add'\n",
    "    viewer.layers[\"tail\"].mode = 'add'\n",
    "    #wait for the user before proceeding with data export\n",
    "    viewer.show(block=True)\n",
    "    #Verify export directory exists\n",
    "    Path(output+ '/'+ imageName).mkdir(exist_ok = True)\n",
    "    #export individual CSV files from Napari into a subfolder based on the image name\n",
    "    viewer.layers[\"head\"].save(output + '/'+ imageName + '/'+ \"head\"  +  '.csv', plugin='builtins');\n",
    "    viewer.layers[\"tail\"].save(output + '/'+ imageName + '/'+ \"tail\"  +  '.csv', plugin='builtins');\n",
    "    viewer.layers[\"spine\"].save(output + '/'+ imageName + '/' + \"spine\" +  '.csv', plugin='builtins');\n",
    "    viewer.layers[\"eyes\"].save(output + '/' + imageName + '/'+ \"eyes\" +  '.csv', plugin='builtins');\n",
    "    \n",
    "    #combine the csv files per image into a single CSV file, with the first column being the label name\n",
    "    csvList = glob.glob(os.path.join(output + '/' + imageName + '/', '*csv'))\n",
    "    \n",
    "    csvFiles = []\n",
    "    for file in csvList:\n",
    "        currentCSV= pd.read_csv(file)\n",
    "        className = os.path.basename(os.path.splitext(file)[0])\n",
    "        currentCSV[len(currentCSV.columns)] = className\n",
    "        #switch the layer name column to the first row\n",
    "        cols = currentCSV.columns.tolist()\n",
    "        cols = cols[-1:] + cols[:-1]\n",
    "        currentCSV = currentCSV[cols]\n",
    "        #combine with previous CSV files for the given image\n",
    "        csvFiles.append(currentCSV)\n",
    "    merged = pd.concat(csvFiles)\n",
    "    merged.to_csv(output  + imageName + '-'+ \"merged\" +  '.csv', index=None, header=None)\n",
    "    \n"
   ]
  },
  {
   "cell_type": "markdown",
   "id": "66b3c110",
   "metadata": {},
   "source": [
    "## Old scratch work"
   ]
  },
  {
   "cell_type": "code",
   "execution_count": 3,
   "id": "ca25ecb4",
   "metadata": {},
   "outputs": [
    {
     "name": "stdout",
     "output_type": "stream",
     "text": [
      "['G:/csv_output/S000_t000071_V000_R0014_X000_Y000_C02_I0_D0_P00339', 'G:/csv_output/S000_t000071_V000_R0015_X000_Y000_C02_I0_D0_P00363', 'G:/csv_output/S000_t000071_V000_R0016_X000_Y000_C02_I0_D0_P00325', 'G:/csv_output/S000_t000071_V000_R0017_X000_Y000_C02_I0_D0_P00322']\n"
     ]
    }
   ],
   "source": [
    "subfolders = [ f.path for f in os.scandir(output) if f.is_dir() ]\n",
    "print(subfolders)"
   ]
  },
  {
   "cell_type": "code",
   "execution_count": 19,
   "id": "bc8a678c",
   "metadata": {},
   "outputs": [],
   "source": [
    "#fileList = glob.glob(os.path.join(output, '*csv'))\n",
    "#loop\n",
    "subfolders = [ f.path for f in os.scandir(output) if f.is_dir() ]\n",
    "#loop\n",
    "for subfolder in subfolders:\n",
    "    csvList = glob.glob(os.path.join(subfolder, '*csv'))\n",
    "    imageName = os.path.basename(os.path.splitext(subfolder)[0])\n",
    "    csvFiles = []\n",
    "    for file in csvList:\n",
    "        currentCSV= pd.read_csv(file)\n",
    "        className = os.path.basename(os.path.splitext(file)[0])\n",
    "        currentCSV[len(currentCSV.columns)] = className\n",
    "        cols = currentCSV.columns.tolist()\n",
    "        cols = cols[-1:] + cols[:-1]\n",
    "        currentCSV = currentCSV[cols]\n",
    "        csvFiles.append(currentCSV)\n",
    "    merged = pd.concat(csvFiles)\n",
    "    merged.to_csv(output  + imageName + '-'+ \"merged\" +  '.csv', index=None, header=None)"
   ]
  },
  {
   "cell_type": "code",
   "execution_count": null,
   "id": "1a988ece",
   "metadata": {},
   "outputs": [],
   "source": []
  },
  {
   "cell_type": "code",
   "execution_count": null,
   "id": "d27ac505",
   "metadata": {},
   "outputs": [],
   "source": []
  }
 ],
 "metadata": {
  "kernelspec": {
   "display_name": "Python 3 (ipykernel)",
   "language": "python",
   "name": "python3"
  },
  "language_info": {
   "codemirror_mode": {
    "name": "ipython",
    "version": 3
   },
   "file_extension": ".py",
   "mimetype": "text/x-python",
   "name": "python",
   "nbconvert_exporter": "python",
   "pygments_lexer": "ipython3",
   "version": "3.9.13"
  }
 },
 "nbformat": 4,
 "nbformat_minor": 5
}
