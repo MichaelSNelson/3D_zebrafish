{
 "cells": [
  {
   "cell_type": "code",
   "execution_count": 1,
   "id": "30ba8ad8",
   "metadata": {},
   "outputs": [],
   "source": [
    "import napari\n",
    "import os\n",
    "import glob\n",
    "\n",
    "from pathlib import Path\n",
    "from tifffile import imread\n",
    "%gui qt\n",
    "\n",
    "import pandas as pd"
   ]
  },
  {
   "cell_type": "raw",
   "id": "b6e0290d",
   "metadata": {},
   "source": [
    "##Make sure to adjust input (3D downsampled image files) and output (output CSV files)"
   ]
  },
  {
   "cell_type": "code",
   "execution_count": null,
   "id": "224c40be",
   "metadata": {},
   "outputs": [
    {
     "name": "stderr",
     "output_type": "stream",
     "text": [
      "WARNING: QWindowsWindow::setGeometry: Unable to set geometry 1110x720-3840+305 (frame: 1132x776-3851+260) on QWidgetWindow/\"_QtMainWindowClassWindow\" on \"\\\\.\\DISPLAY4\". Resulting geometry: 1667x1083-3837+319 (frame: 1689x1139-3848+274) margins: 11, 45, 11, 11 minimum size: 648x685 MINMAXINFO maxSize=0,0 maxpos=0,0 mintrack=670,741 maxtrack=0,0)\n"
     ]
    }
   ],
   "source": [
    "\n",
    "input = 'G:/downsampled_inputs/'\n",
    "output = 'G:/csv_output/'\n",
    "Path(output).mkdir(exist_ok = True)\n",
    "fileList = glob.glob(os.path.join(input, '*TIF'))\n",
    "\n",
    "#convert to loop\n",
    "for fname in fileList:\n",
    "    image = imread(fname)\n",
    "    imageName = os.path.basename(os.path.splitext(fname)[0])\n",
    "\n",
    "    viewer = napari.view_image(image, name= imageName, rgb=False)\n",
    "    viewer.dims.ndisplay = 3\n",
    "    viewer.add_points(None, ndim=3, size=2, name=\"head\", face_color=\"red\", edge_color=\"white\", symbol = \"diamond\")\n",
    "    viewer.add_points(None, ndim=3, size=2, name=\"tail\", face_color=\"green\", edge_color=\"white\", symbol = \"diamond\")\n",
    "    viewer.add_points(None, ndim=3, size=2, name=\"spine\", face_color=\"gray\", edge_color=\"white\", symbol = \"diamond\")\n",
    "    viewer.add_points(None, ndim=3, size=2, name=\"eyes\", face_color=\"cyan\", edge_color=\"white\", symbol = \"diamond\")\n",
    "    viewer.show(block=True)\n",
    "    Path(output+ '/'+ imageName).mkdir(exist_ok = True)\n",
    "    viewer.layers[\"head\"].save(output + '/'+ imageName + '/'+ \"head\"  +  '.csv', plugin='builtins');\n",
    "    viewer.layers[\"tail\"].save(output + '/'+ imageName + '/'+ \"tail\"  +  '.csv', plugin='builtins');\n",
    "    viewer.layers[\"spine\"].save(output + '/'+ imageName + '/' + \"spine\" +  '.csv', plugin='builtins');\n",
    "    viewer.layers[\"eyes\"].save(output + '/' + imageName + '/'+ \"eyes\" +  '.csv', plugin='builtins');\n"
   ]
  },
  {
   "cell_type": "code",
   "execution_count": null,
   "id": "bc8a678c",
   "metadata": {},
   "outputs": [],
   "source": [
    "fileList = glob.glob(os.path.join(output, '*csv'))\n",
    "\n",
    "f1 = pd.read_csv('0113_RE_fscom.csv', header=None)\n",
    "f2 = pd.read_csv('0213_RE_fscom.csv', header=None)\n",
    "merged = pd.concat(f1, f2)\n",
    "merged.to_csv('merged.csv', index=None, header=None)"
   ]
  }
 ],
 "metadata": {
  "kernelspec": {
   "display_name": "Python 3 (ipykernel)",
   "language": "python",
   "name": "python3"
  },
  "language_info": {
   "codemirror_mode": {
    "name": "ipython",
    "version": 3
   },
   "file_extension": ".py",
   "mimetype": "text/x-python",
   "name": "python",
   "nbconvert_exporter": "python",
   "pygments_lexer": "ipython3",
   "version": "3.9.13"
  }
 },
 "nbformat": 4,
 "nbformat_minor": 5
}
